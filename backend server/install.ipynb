{
 "cells": [
  {
   "cell_type": "code",
   "execution_count": 3,
   "metadata": {},
   "outputs": [
    {
     "name": "stdout",
     "output_type": "stream",
     "text": [
      "Collecting fastapi (from -r requirements.txt (line 1))\n",
      "  Using cached fastapi-0.108.0-py3-none-any.whl.metadata (24 kB)\n",
      "Collecting uvicorn (from -r requirements.txt (line 2))\n",
      "  Using cached uvicorn-0.25.0-py3-none-any.whl.metadata (6.4 kB)\n",
      "Collecting python-multipart (from -r requirements.txt (line 3))\n",
      "  Using cached python_multipart-0.0.6-py3-none-any.whl (45 kB)\n",
      "Requirement already satisfied: pillow in d:\\programming\\python\\ws2 backend\\.venv\\lib\\site-packages (from -r requirements.txt (line 4)) (10.1.0)\n",
      "Requirement already satisfied: matplotlib in d:\\programming\\python\\ws2 backend\\.venv\\lib\\site-packages (from -r requirements.txt (line 5)) (3.8.2)\n",
      "Collecting nltk (from -r requirements.txt (line 6))\n",
      "  Using cached nltk-3.8.1-py3-none-any.whl (1.5 MB)\n",
      "Requirement already satisfied: torch in d:\\programming\\python\\ws2 backend\\.venv\\lib\\site-packages (from -r requirements.txt (line 7)) (2.1.2)\n"
     ]
    },
    {
     "name": "stderr",
     "output_type": "stream",
     "text": [
      "ERROR: Could not find a version that satisfies the requirement tensorflow==2.5.0 (from versions: 2.12.0rc0, 2.12.0rc1, 2.12.0, 2.12.1, 2.13.0rc0, 2.13.0rc1, 2.13.0rc2, 2.13.0, 2.13.1, 2.14.0rc0, 2.14.0rc1, 2.14.0, 2.14.1, 2.15.0rc0, 2.15.0rc1, 2.15.0)\n",
      "ERROR: No matching distribution found for tensorflow==2.5.0\n"
     ]
    }
   ],
   "source": [
    "!pip install -r requirements.txt"
   ]
  }
 ],
 "metadata": {
  "kernelspec": {
   "display_name": "Python 3",
   "language": "python",
   "name": "python3"
  },
  "language_info": {
   "codemirror_mode": {
    "name": "ipython",
    "version": 3
   },
   "file_extension": ".py",
   "mimetype": "text/x-python",
   "name": "python",
   "nbconvert_exporter": "python",
   "pygments_lexer": "ipython3",
   "version": "3.11.4"
  }
 },
 "nbformat": 4,
 "nbformat_minor": 2
}
